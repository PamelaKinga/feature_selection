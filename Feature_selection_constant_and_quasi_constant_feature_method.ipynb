{
  "nbformat": 4,
  "nbformat_minor": 0,
  "metadata": {
    "colab": {
      "provenance": [],
      "toc_visible": true,
      "authorship_tag": "ABX9TyN+J10k223ypUHFxiQqexkQ",
      "include_colab_link": true
    },
    "kernelspec": {
      "name": "python3",
      "display_name": "Python 3"
    },
    "language_info": {
      "name": "python"
    }
  },
  "cells": [
    {
      "cell_type": "markdown",
      "metadata": {
        "id": "view-in-github",
        "colab_type": "text"
      },
      "source": [
        "<a href=\"https://colab.research.google.com/github/PamelaKinga/feature_selection/blob/main/Feature_selection_constant_and_quasi_constant_feature_method.ipynb\" target=\"_parent\"><img src=\"https://colab.research.google.com/assets/colab-badge.svg\" alt=\"Open In Colab\"/></a>"
      ]
    },
    {
      "cell_type": "markdown",
      "source": [
        "**Feature Selection**: Basic Methods - Filtering out Constant and Quasi-Constant Features"
      ],
      "metadata": {
        "id": "pjUUm5Es5FBW"
      }
    },
    {
      "cell_type": "markdown",
      "source": [
        "# About"
      ],
      "metadata": {
        "id": "GKH7hiEEAn4y"
      }
    },
    {
      "cell_type": "markdown",
      "source": [
        "There are many benefits to feature seleciton including improved accuracy, improved likelihood to reduce overfitting, mitigating variable redundancy, shorter training times, and mitigating bad learning behaviour across high dimensional spaces. A starting techique is filtering on features, a basic method is to quickly check for constant or quasi-constant features in the dataset."
      ],
      "metadata": {
        "id": "Vts8wmH75v_1"
      }
    },
    {
      "cell_type": "markdown",
      "source": [
        "To identify constant & quasi-constant features I use the python library [fast-ml](https://pypi.org/project/fast-ml/) "
      ],
      "metadata": {
        "id": "L2QfxUVA6PeX"
      }
    },
    {
      "cell_type": "markdown",
      "source": [
        "This workbook is a quick code sample for implementing a constant & quasi-constant feature cleanup using fast-ml"
      ],
      "metadata": {
        "id": "BpeplTPm6c7-"
      }
    },
    {
      "cell_type": "markdown",
      "source": [
        "# Import Fast-ML Package"
      ],
      "metadata": {
        "id": "hhbSdG_LAqGc"
      }
    },
    {
      "cell_type": "code",
      "source": [
        "# Install the fast_ml library for data scientists\n",
        "pip install fast_ml"
      ],
      "metadata": {
        "id": "-WBpqbj97fN_"
      },
      "execution_count": null,
      "outputs": []
    },
    {
      "cell_type": "code",
      "source": [
        "import pandas as pd\n",
        "import numpy as np\n",
        "from fast_ml.utilities import display_all\n",
        "from fast_ml.feature_selection import get_constant_features"
      ],
      "metadata": {
        "id": "mxqqxwVW65tz"
      },
      "execution_count": 4,
      "outputs": []
    },
    {
      "cell_type": "code",
      "source": [
        "# Save train.csv data set from Kaggle's house prices competition dataset https://www.kaggle.com/competitions/house-prices-advanced-regression-techniques/data?select=train.csv\n",
        "df = pd.read_csv('house_prices_train.csv')"
      ],
      "metadata": {
        "id": "57etp4G76hvf"
      },
      "execution_count": 5,
      "outputs": []
    },
    {
      "cell_type": "code",
      "source": [
        "# Show data\n",
        "df.shape"
      ],
      "metadata": {
        "colab": {
          "base_uri": "https://localhost:8080/"
        },
        "id": "F2EL5VoG79NB",
        "outputId": "c99f69f4-5795-430b-94e8-1b2653119a32"
      },
      "execution_count": 7,
      "outputs": [
        {
          "output_type": "execute_result",
          "data": {
            "text/plain": [
              "(1460, 81)"
            ]
          },
          "metadata": {},
          "execution_count": 7
        }
      ]
    },
    {
      "cell_type": "markdown",
      "source": [
        "# Constant Features"
      ],
      "metadata": {
        "id": "WzzVpC9r-RY3"
      }
    },
    {
      "cell_type": "markdown",
      "source": [
        "*  Constant features are the same value in all rows/records\n",
        "*  Use the get_constant_features function to get all the constant features\n",
        "\n"
      ],
      "metadata": {
        "id": "vmqj0F-G93Ji"
      }
    },
    {
      "cell_type": "code",
      "source": [
        "constant_features = get_constant_features(df)\n",
        "constant_features.head(10)"
      ],
      "metadata": {
        "colab": {
          "base_uri": "https://localhost:8080/",
          "height": 175
        },
        "id": "e0z0Ozx58LSY",
        "outputId": "cd0a1640-b8e3-407e-8680-7aa656fd62fd"
      },
      "execution_count": 9,
      "outputs": [
        {
          "output_type": "execute_result",
          "data": {
            "text/plain": [
              "             Desc        Var   Value       Perc\n",
              "0  Quasi Constant  Utilities  AllPub  99.931507\n",
              "1  Quasi Constant     Street    Pave  99.589041\n",
              "2  Quasi Constant   PoolArea       0  99.520548\n",
              "3  Quasi Constant     PoolQC     NaN  99.520548"
            ],
            "text/html": [
              "\n",
              "  <div id=\"df-24b585b9-aad2-46e1-82f8-56927a3c54e2\">\n",
              "    <div class=\"colab-df-container\">\n",
              "      <div>\n",
              "<style scoped>\n",
              "    .dataframe tbody tr th:only-of-type {\n",
              "        vertical-align: middle;\n",
              "    }\n",
              "\n",
              "    .dataframe tbody tr th {\n",
              "        vertical-align: top;\n",
              "    }\n",
              "\n",
              "    .dataframe thead th {\n",
              "        text-align: right;\n",
              "    }\n",
              "</style>\n",
              "<table border=\"1\" class=\"dataframe\">\n",
              "  <thead>\n",
              "    <tr style=\"text-align: right;\">\n",
              "      <th></th>\n",
              "      <th>Desc</th>\n",
              "      <th>Var</th>\n",
              "      <th>Value</th>\n",
              "      <th>Perc</th>\n",
              "    </tr>\n",
              "  </thead>\n",
              "  <tbody>\n",
              "    <tr>\n",
              "      <th>0</th>\n",
              "      <td>Quasi Constant</td>\n",
              "      <td>Utilities</td>\n",
              "      <td>AllPub</td>\n",
              "      <td>99.931507</td>\n",
              "    </tr>\n",
              "    <tr>\n",
              "      <th>1</th>\n",
              "      <td>Quasi Constant</td>\n",
              "      <td>Street</td>\n",
              "      <td>Pave</td>\n",
              "      <td>99.589041</td>\n",
              "    </tr>\n",
              "    <tr>\n",
              "      <th>2</th>\n",
              "      <td>Quasi Constant</td>\n",
              "      <td>PoolArea</td>\n",
              "      <td>0</td>\n",
              "      <td>99.520548</td>\n",
              "    </tr>\n",
              "    <tr>\n",
              "      <th>3</th>\n",
              "      <td>Quasi Constant</td>\n",
              "      <td>PoolQC</td>\n",
              "      <td>NaN</td>\n",
              "      <td>99.520548</td>\n",
              "    </tr>\n",
              "  </tbody>\n",
              "</table>\n",
              "</div>\n",
              "      <button class=\"colab-df-convert\" onclick=\"convertToInteractive('df-24b585b9-aad2-46e1-82f8-56927a3c54e2')\"\n",
              "              title=\"Convert this dataframe to an interactive table.\"\n",
              "              style=\"display:none;\">\n",
              "        \n",
              "  <svg xmlns=\"http://www.w3.org/2000/svg\" height=\"24px\"viewBox=\"0 0 24 24\"\n",
              "       width=\"24px\">\n",
              "    <path d=\"M0 0h24v24H0V0z\" fill=\"none\"/>\n",
              "    <path d=\"M18.56 5.44l.94 2.06.94-2.06 2.06-.94-2.06-.94-.94-2.06-.94 2.06-2.06.94zm-11 1L8.5 8.5l.94-2.06 2.06-.94-2.06-.94L8.5 2.5l-.94 2.06-2.06.94zm10 10l.94 2.06.94-2.06 2.06-.94-2.06-.94-.94-2.06-.94 2.06-2.06.94z\"/><path d=\"M17.41 7.96l-1.37-1.37c-.4-.4-.92-.59-1.43-.59-.52 0-1.04.2-1.43.59L10.3 9.45l-7.72 7.72c-.78.78-.78 2.05 0 2.83L4 21.41c.39.39.9.59 1.41.59.51 0 1.02-.2 1.41-.59l7.78-7.78 2.81-2.81c.8-.78.8-2.07 0-2.86zM5.41 20L4 18.59l7.72-7.72 1.47 1.35L5.41 20z\"/>\n",
              "  </svg>\n",
              "      </button>\n",
              "      \n",
              "  <style>\n",
              "    .colab-df-container {\n",
              "      display:flex;\n",
              "      flex-wrap:wrap;\n",
              "      gap: 12px;\n",
              "    }\n",
              "\n",
              "    .colab-df-convert {\n",
              "      background-color: #E8F0FE;\n",
              "      border: none;\n",
              "      border-radius: 50%;\n",
              "      cursor: pointer;\n",
              "      display: none;\n",
              "      fill: #1967D2;\n",
              "      height: 32px;\n",
              "      padding: 0 0 0 0;\n",
              "      width: 32px;\n",
              "    }\n",
              "\n",
              "    .colab-df-convert:hover {\n",
              "      background-color: #E2EBFA;\n",
              "      box-shadow: 0px 1px 2px rgba(60, 64, 67, 0.3), 0px 1px 3px 1px rgba(60, 64, 67, 0.15);\n",
              "      fill: #174EA6;\n",
              "    }\n",
              "\n",
              "    [theme=dark] .colab-df-convert {\n",
              "      background-color: #3B4455;\n",
              "      fill: #D2E3FC;\n",
              "    }\n",
              "\n",
              "    [theme=dark] .colab-df-convert:hover {\n",
              "      background-color: #434B5C;\n",
              "      box-shadow: 0px 1px 3px 1px rgba(0, 0, 0, 0.15);\n",
              "      filter: drop-shadow(0px 1px 2px rgba(0, 0, 0, 0.3));\n",
              "      fill: #FFFFFF;\n",
              "    }\n",
              "  </style>\n",
              "\n",
              "      <script>\n",
              "        const buttonEl =\n",
              "          document.querySelector('#df-24b585b9-aad2-46e1-82f8-56927a3c54e2 button.colab-df-convert');\n",
              "        buttonEl.style.display =\n",
              "          google.colab.kernel.accessAllowed ? 'block' : 'none';\n",
              "\n",
              "        async function convertToInteractive(key) {\n",
              "          const element = document.querySelector('#df-24b585b9-aad2-46e1-82f8-56927a3c54e2');\n",
              "          const dataTable =\n",
              "            await google.colab.kernel.invokeFunction('convertToInteractive',\n",
              "                                                     [key], {});\n",
              "          if (!dataTable) return;\n",
              "\n",
              "          const docLinkHtml = 'Like what you see? Visit the ' +\n",
              "            '<a target=\"_blank\" href=https://colab.research.google.com/notebooks/data_table.ipynb>data table notebook</a>'\n",
              "            + ' to learn more about interactive tables.';\n",
              "          element.innerHTML = '';\n",
              "          dataTable['output_type'] = 'display_data';\n",
              "          await google.colab.output.renderOutput(dataTable, element);\n",
              "          const docLink = document.createElement('div');\n",
              "          docLink.innerHTML = docLinkHtml;\n",
              "          element.appendChild(docLink);\n",
              "        }\n",
              "      </script>\n",
              "    </div>\n",
              "  </div>\n",
              "  "
            ]
          },
          "metadata": {},
          "execution_count": 9
        }
      ]
    },
    {
      "cell_type": "markdown",
      "source": [
        "*This particular dataset has no constant features, only quasi-features, I'll continue as though this were not the case for the sake of writing the code*"
      ],
      "metadata": {
        "id": "LNdyVZ9LAKMG"
      }
    },
    {
      "cell_type": "markdown",
      "source": [
        "*   Store all the constant features as a list for removing from the dataset"
      ],
      "metadata": {
        "id": "WCTdenZh-f_1"
      }
    },
    {
      "cell_type": "code",
      "source": [
        "# Create and print a list of all the constant features in the data set as identified in the fast-ml function\n",
        "constant_features_list = constant_features.query(\"Desc=='Constant'\")['Var'].to_list()\n",
        "print(constant_features_list)"
      ],
      "metadata": {
        "colab": {
          "base_uri": "https://localhost:8080/"
        },
        "id": "QjOMOf3F-JJt",
        "outputId": "3a16ba7c-4f96-4aa9-99b7-b992ce904776"
      },
      "execution_count": 15,
      "outputs": [
        {
          "output_type": "stream",
          "name": "stdout",
          "text": [
            "[]\n"
          ]
        }
      ]
    },
    {
      "cell_type": "markdown",
      "source": [
        "*   Drop all the features from the data set that are constant"
      ],
      "metadata": {
        "id": "K5w0uxkH_L3E"
      }
    },
    {
      "cell_type": "code",
      "source": [
        "# Check the before and after shape of the data set to see how many features have been dropped\n",
        "print('Shape of the dataset before dropping constant feature: ', df.shape)\n",
        "df.drop(columns= constant_features_list, inplace = True)\n",
        "print('Shape of the dataset after dropping constant feature: ', df.shape)"
      ],
      "metadata": {
        "colab": {
          "base_uri": "https://localhost:8080/"
        },
        "id": "MkWeXbqK_LK4",
        "outputId": "cd78c22c-a306-48a8-ff57-37754b4d04e5"
      },
      "execution_count": 14,
      "outputs": [
        {
          "output_type": "stream",
          "name": "stdout",
          "text": [
            "Shape of the dataset before dropping constant feature:  (1460, 81)\n",
            "Shape of the dataset after dropping constant feature:  (1460, 81)\n"
          ]
        }
      ]
    },
    {
      "cell_type": "markdown",
      "source": [
        "# Quasi-Constant Features"
      ],
      "metadata": {
        "id": "RnoAoekuAjr-"
      }
    },
    {
      "cell_type": "markdown",
      "source": [
        "*   Quasi-contant features: one of the values is dominant 99.9%\n",
        "*   Threshold cut-off value for defining the quasi-ness of the data you want to eliminate, i.e. 99.9%, 99%, 98%, etc."
      ],
      "metadata": {
        "id": "mcpAN7GKA9CH"
      }
    },
    {
      "cell_type": "code",
      "source": [
        "quasi_constant_features = get_constant_features(df, threshold = 0.99, dropna = False)\n",
        "quasi_constant_features.head(10)"
      ],
      "metadata": {
        "colab": {
          "base_uri": "https://localhost:8080/",
          "height": 175
        },
        "id": "7h3tswTyAxBf",
        "outputId": "332b8bb5-d5dd-4b3c-ae7d-a75c33812aff"
      },
      "execution_count": 17,
      "outputs": [
        {
          "output_type": "execute_result",
          "data": {
            "text/plain": [
              "             Desc        Var   Value       Perc\n",
              "0  Quasi Constant  Utilities  AllPub  99.931507\n",
              "1  Quasi Constant     Street    Pave  99.589041\n",
              "2  Quasi Constant   PoolArea       0  99.520548\n",
              "3  Quasi Constant     PoolQC     NaN  99.520548"
            ],
            "text/html": [
              "\n",
              "  <div id=\"df-007f0240-8c3f-450a-ae2c-94b55fbe249b\">\n",
              "    <div class=\"colab-df-container\">\n",
              "      <div>\n",
              "<style scoped>\n",
              "    .dataframe tbody tr th:only-of-type {\n",
              "        vertical-align: middle;\n",
              "    }\n",
              "\n",
              "    .dataframe tbody tr th {\n",
              "        vertical-align: top;\n",
              "    }\n",
              "\n",
              "    .dataframe thead th {\n",
              "        text-align: right;\n",
              "    }\n",
              "</style>\n",
              "<table border=\"1\" class=\"dataframe\">\n",
              "  <thead>\n",
              "    <tr style=\"text-align: right;\">\n",
              "      <th></th>\n",
              "      <th>Desc</th>\n",
              "      <th>Var</th>\n",
              "      <th>Value</th>\n",
              "      <th>Perc</th>\n",
              "    </tr>\n",
              "  </thead>\n",
              "  <tbody>\n",
              "    <tr>\n",
              "      <th>0</th>\n",
              "      <td>Quasi Constant</td>\n",
              "      <td>Utilities</td>\n",
              "      <td>AllPub</td>\n",
              "      <td>99.931507</td>\n",
              "    </tr>\n",
              "    <tr>\n",
              "      <th>1</th>\n",
              "      <td>Quasi Constant</td>\n",
              "      <td>Street</td>\n",
              "      <td>Pave</td>\n",
              "      <td>99.589041</td>\n",
              "    </tr>\n",
              "    <tr>\n",
              "      <th>2</th>\n",
              "      <td>Quasi Constant</td>\n",
              "      <td>PoolArea</td>\n",
              "      <td>0</td>\n",
              "      <td>99.520548</td>\n",
              "    </tr>\n",
              "    <tr>\n",
              "      <th>3</th>\n",
              "      <td>Quasi Constant</td>\n",
              "      <td>PoolQC</td>\n",
              "      <td>NaN</td>\n",
              "      <td>99.520548</td>\n",
              "    </tr>\n",
              "  </tbody>\n",
              "</table>\n",
              "</div>\n",
              "      <button class=\"colab-df-convert\" onclick=\"convertToInteractive('df-007f0240-8c3f-450a-ae2c-94b55fbe249b')\"\n",
              "              title=\"Convert this dataframe to an interactive table.\"\n",
              "              style=\"display:none;\">\n",
              "        \n",
              "  <svg xmlns=\"http://www.w3.org/2000/svg\" height=\"24px\"viewBox=\"0 0 24 24\"\n",
              "       width=\"24px\">\n",
              "    <path d=\"M0 0h24v24H0V0z\" fill=\"none\"/>\n",
              "    <path d=\"M18.56 5.44l.94 2.06.94-2.06 2.06-.94-2.06-.94-.94-2.06-.94 2.06-2.06.94zm-11 1L8.5 8.5l.94-2.06 2.06-.94-2.06-.94L8.5 2.5l-.94 2.06-2.06.94zm10 10l.94 2.06.94-2.06 2.06-.94-2.06-.94-.94-2.06-.94 2.06-2.06.94z\"/><path d=\"M17.41 7.96l-1.37-1.37c-.4-.4-.92-.59-1.43-.59-.52 0-1.04.2-1.43.59L10.3 9.45l-7.72 7.72c-.78.78-.78 2.05 0 2.83L4 21.41c.39.39.9.59 1.41.59.51 0 1.02-.2 1.41-.59l7.78-7.78 2.81-2.81c.8-.78.8-2.07 0-2.86zM5.41 20L4 18.59l7.72-7.72 1.47 1.35L5.41 20z\"/>\n",
              "  </svg>\n",
              "      </button>\n",
              "      \n",
              "  <style>\n",
              "    .colab-df-container {\n",
              "      display:flex;\n",
              "      flex-wrap:wrap;\n",
              "      gap: 12px;\n",
              "    }\n",
              "\n",
              "    .colab-df-convert {\n",
              "      background-color: #E8F0FE;\n",
              "      border: none;\n",
              "      border-radius: 50%;\n",
              "      cursor: pointer;\n",
              "      display: none;\n",
              "      fill: #1967D2;\n",
              "      height: 32px;\n",
              "      padding: 0 0 0 0;\n",
              "      width: 32px;\n",
              "    }\n",
              "\n",
              "    .colab-df-convert:hover {\n",
              "      background-color: #E2EBFA;\n",
              "      box-shadow: 0px 1px 2px rgba(60, 64, 67, 0.3), 0px 1px 3px 1px rgba(60, 64, 67, 0.15);\n",
              "      fill: #174EA6;\n",
              "    }\n",
              "\n",
              "    [theme=dark] .colab-df-convert {\n",
              "      background-color: #3B4455;\n",
              "      fill: #D2E3FC;\n",
              "    }\n",
              "\n",
              "    [theme=dark] .colab-df-convert:hover {\n",
              "      background-color: #434B5C;\n",
              "      box-shadow: 0px 1px 3px 1px rgba(0, 0, 0, 0.15);\n",
              "      filter: drop-shadow(0px 1px 2px rgba(0, 0, 0, 0.3));\n",
              "      fill: #FFFFFF;\n",
              "    }\n",
              "  </style>\n",
              "\n",
              "      <script>\n",
              "        const buttonEl =\n",
              "          document.querySelector('#df-007f0240-8c3f-450a-ae2c-94b55fbe249b button.colab-df-convert');\n",
              "        buttonEl.style.display =\n",
              "          google.colab.kernel.accessAllowed ? 'block' : 'none';\n",
              "\n",
              "        async function convertToInteractive(key) {\n",
              "          const element = document.querySelector('#df-007f0240-8c3f-450a-ae2c-94b55fbe249b');\n",
              "          const dataTable =\n",
              "            await google.colab.kernel.invokeFunction('convertToInteractive',\n",
              "                                                     [key], {});\n",
              "          if (!dataTable) return;\n",
              "\n",
              "          const docLinkHtml = 'Like what you see? Visit the ' +\n",
              "            '<a target=\"_blank\" href=https://colab.research.google.com/notebooks/data_table.ipynb>data table notebook</a>'\n",
              "            + ' to learn more about interactive tables.';\n",
              "          element.innerHTML = '';\n",
              "          dataTable['output_type'] = 'display_data';\n",
              "          await google.colab.output.renderOutput(dataTable, element);\n",
              "          const docLink = document.createElement('div');\n",
              "          docLink.innerHTML = docLinkHtml;\n",
              "          element.appendChild(docLink);\n",
              "        }\n",
              "      </script>\n",
              "    </div>\n",
              "  </div>\n",
              "  "
            ]
          },
          "metadata": {},
          "execution_count": 17
        }
      ]
    },
    {
      "cell_type": "markdown",
      "source": [
        "*   Store all the quasi constant features as a list for removing from the dataset\n",
        "\n"
      ],
      "metadata": {
        "id": "3CXdSHMxBVOR"
      }
    },
    {
      "cell_type": "code",
      "source": [
        "quasi_constant_features_list = constant_features.query(\"Desc=='Quasi Constant'\")['Var'].to_list()\n",
        "print(quasi_constant_features_list)"
      ],
      "metadata": {
        "colab": {
          "base_uri": "https://localhost:8080/"
        },
        "id": "0buudh0b-97H",
        "outputId": "6b3c5031-a270-49e9-e306-0b27fcd7174d"
      },
      "execution_count": 12,
      "outputs": [
        {
          "output_type": "stream",
          "name": "stdout",
          "text": [
            "['Utilities', 'Street', 'PoolArea', 'PoolQC']\n"
          ]
        }
      ]
    },
    {
      "cell_type": "markdown",
      "source": [
        "*   Drop all the quasi-features"
      ],
      "metadata": {
        "id": "Mx5-TCxiBbVF"
      }
    },
    {
      "cell_type": "code",
      "source": [
        "# Check the before and after shape of the data set to see how many features have been dropped\n",
        "print('Shape of the dataset before dropping quasi-constant feature: ', df.shape)\n",
        "df.drop(columns= quasi_constant_features_list, inplace = True)\n",
        "print('Shape of the dataset after dropping quasi-constant feature: ', df.shape)"
      ],
      "metadata": {
        "colab": {
          "base_uri": "https://localhost:8080/"
        },
        "id": "CYj4BXAU_Igu",
        "outputId": "7574e628-f96f-48af-ad4c-839855803d89"
      },
      "execution_count": 18,
      "outputs": [
        {
          "output_type": "stream",
          "name": "stdout",
          "text": [
            "Shape of the dataset before dropping quasi-constant feature:  (1460, 81)\n",
            "Shape of the dataset after dropping quasi-constant feature:  (1460, 77)\n"
          ]
        }
      ]
    },
    {
      "cell_type": "markdown",
      "source": [
        "*  In this data set, we went from 81 to 77 features remaining after dropping 4 quasi-constant features\n",
        "\n"
      ],
      "metadata": {
        "id": "JwV7d8FhBoxW"
      }
    },
    {
      "cell_type": "markdown",
      "source": [
        "The End"
      ],
      "metadata": {
        "id": "9aOSxckwBwjw"
      }
    }
  ]
}