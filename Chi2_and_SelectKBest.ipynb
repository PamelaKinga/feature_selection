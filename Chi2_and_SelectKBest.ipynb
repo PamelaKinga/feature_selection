{
  "nbformat": 4,
  "nbformat_minor": 0,
  "metadata": {
    "colab": {
      "provenance": [],
      "collapsed_sections": [
        "QmrVfqnXBMOI",
        "lLANAF68FLS9",
        "Yvv83A2LtEa0",
        "rd8R1bmQGYwG",
        "_v5CLt8Lz3br"
      ],
      "toc_visible": true,
      "mount_file_id": "1BVCkLyDMZfugGZ1bcbO6K-0JM3hA8on3",
      "authorship_tag": "ABX9TyOlPSVbKxtn+F2s8wUOM+XH",
      "include_colab_link": true
    },
    "kernelspec": {
      "name": "python3",
      "display_name": "Python 3"
    },
    "language_info": {
      "name": "python"
    }
  },
  "cells": [
    {
      "cell_type": "markdown",
      "metadata": {
        "id": "view-in-github",
        "colab_type": "text"
      },
      "source": [
        "<a href=\"https://colab.research.google.com/github/PamelaKinga/feature_selection/blob/main/Chi2_and_SelectKBest.ipynb\" target=\"_parent\"><img src=\"https://colab.research.google.com/assets/colab-badge.svg\" alt=\"Open In Colab\"/></a>"
      ]
    },
    {
      "cell_type": "markdown",
      "source": [
        "# Introduction"
      ],
      "metadata": {
        "id": "fm4Rma1c9pX-"
      }
    },
    {
      "cell_type": "markdown",
      "source": [
        "**Feature Selection**: Basic Methods - Univariate Selection Methods (SelectKBest with the Chi2 test statistic)"
      ],
      "metadata": {
        "id": "-2B1Ag2g9j5V"
      }
    },
    {
      "cell_type": "markdown",
      "source": [
        "**Data:** from [Kaggle's Mushroom Classification dataset](https://www.kaggle.com/datasets/uciml/mushroom-classification). The data was donated to the UCI Machine Learning repository and includes descriptions of hypothetical samples corresponding to 23 species of gilled mushrooms in the Agaricus and Lepiota Family Mushroom drawn from The Audubon Society Field Guide to North American Mushrooms (1981). The goal is to determine which mushrooms are edible or poisonous using data of mushroom characteristics. This is a classification problem."
      ],
      "metadata": {
        "id": "gQBgHCQfQQ8F"
      }
    },
    {
      "cell_type": "markdown",
      "source": [
        "# Data"
      ],
      "metadata": {
        "id": "QmrVfqnXBMOI"
      }
    },
    {
      "cell_type": "code",
      "execution_count": null,
      "metadata": {
        "id": "V6sdrSbeIr6w"
      },
      "outputs": [],
      "source": [
        "# First mount Gdrive to Colab for these steps to work\n",
        "! pip install kaggle\n",
        "! mkdir ~/.kaggle\n",
        "! cp /content/drive/MyDrive/kaggle.json ~/.kaggle/kaggle.json"
      ]
    },
    {
      "cell_type": "code",
      "source": [
        "! kaggle datasets download -d uciml/mushroom-classification"
      ],
      "metadata": {
        "id": "RvCDPqEYAHJh"
      },
      "execution_count": null,
      "outputs": []
    },
    {
      "cell_type": "code",
      "source": [
        "! unzip mushroom-classification.zip"
      ],
      "metadata": {
        "colab": {
          "base_uri": "https://localhost:8080/"
        },
        "id": "r1yIlLPtALuK",
        "outputId": "c2544b70-9902-4284-83fa-640031deeaff"
      },
      "execution_count": 16,
      "outputs": [
        {
          "output_type": "stream",
          "name": "stdout",
          "text": [
            "Archive:  mushroom-classification.zip\n",
            "  inflating: mushrooms.csv           \n"
          ]
        }
      ]
    },
    {
      "cell_type": "markdown",
      "source": [
        "# Install Libraries"
      ],
      "metadata": {
        "id": "lLANAF68FLS9"
      }
    },
    {
      "cell_type": "code",
      "source": [
        "import numpy as np\n",
        "import pandas as pd\n",
        "from scipy import stats\n",
        "from sklearn.feature_selection import SelectKBest, chi2\n",
        "from sklearn.preprocessing import LabelEncoder"
      ],
      "metadata": {
        "id": "nfxMER2M97RO"
      },
      "execution_count": 47,
      "outputs": []
    },
    {
      "cell_type": "code",
      "source": [
        "df=pd.read_csv('mushrooms.csv')"
      ],
      "metadata": {
        "id": "8kGZBHNOAQS-"
      },
      "execution_count": 26,
      "outputs": []
    },
    {
      "cell_type": "code",
      "source": [
        "df.shape"
      ],
      "metadata": {
        "id": "BapHq60V-B7c"
      },
      "execution_count": null,
      "outputs": []
    },
    {
      "cell_type": "code",
      "source": [
        "df.info()"
      ],
      "metadata": {
        "id": "wHqHlweY-jx6"
      },
      "execution_count": null,
      "outputs": []
    },
    {
      "cell_type": "code",
      "source": [
        "df.columns"
      ],
      "metadata": {
        "colab": {
          "base_uri": "https://localhost:8080/"
        },
        "id": "N1WV5JNk-vNX",
        "outputId": "fd900c99-dd4a-4181-cf7d-aae478ca0b0f"
      },
      "execution_count": 37,
      "outputs": [
        {
          "output_type": "execute_result",
          "data": {
            "text/plain": [
              "Index(['class', 'cap-shape', 'cap-surface', 'cap-color', 'bruises', 'odor',\n",
              "       'gill-attachment', 'gill-spacing', 'gill-size', 'gill-color',\n",
              "       'stalk-shape', 'stalk-root', 'stalk-surface-above-ring',\n",
              "       'stalk-surface-below-ring', 'stalk-color-above-ring',\n",
              "       'stalk-color-below-ring', 'veil-type', 'veil-color', 'ring-number',\n",
              "       'ring-type', 'spore-print-color', 'population', 'habitat'],\n",
              "      dtype='object')"
            ]
          },
          "metadata": {},
          "execution_count": 37
        }
      ]
    },
    {
      "cell_type": "markdown",
      "source": [
        "# Pre-Processing "
      ],
      "metadata": {
        "id": "Yvv83A2LtEa0"
      }
    },
    {
      "cell_type": "code",
      "source": [
        "# Setting up the target variable and creating instance of labelencoder\n",
        "labelencoder = LabelEncoder()\n",
        "# Assigning numerical values and storing in another column\n",
        "df['class_encoded'] = labelencoder.fit_transform(df['class'])\n",
        "df"
      ],
      "metadata": {
        "id": "AssdfJ1GsPEA"
      },
      "execution_count": null,
      "outputs": []
    },
    {
      "cell_type": "markdown",
      "source": [
        "Before performing the chi-square test, make sure the data is label encoded"
      ],
      "metadata": {
        "id": "VjtbmalU4INT"
      }
    },
    {
      "cell_type": "code",
      "source": [
        "# Converting categorical variables to numerical values using dummies\n",
        "# Assigning numerical values and storing in another column\n",
        "df['ring_type_encoded'] = labelencoder.fit_transform(df['ring-type'])\n",
        "df"
      ],
      "metadata": {
        "id": "oVtzs5WGuP6p"
      },
      "execution_count": null,
      "outputs": []
    },
    {
      "cell_type": "code",
      "source": [
        "# Converting categorical variables to numerical values using dummies\n",
        "# Assigning numerical values and storing in another column\n",
        "df['cap_color_encoded'] = labelencoder.fit_transform(df['cap-color'])\n",
        "df"
      ],
      "metadata": {
        "id": "8KwcfP8Sv28H"
      },
      "execution_count": null,
      "outputs": []
    },
    {
      "cell_type": "code",
      "source": [
        "# Converting categorical variables to numerical values using dummies\n",
        "# Assigning numerical values and storing in another column\n",
        "df['spore_print_color_encoded'] = labelencoder.fit_transform(df['spore-print-color'])\n",
        "df"
      ],
      "metadata": {
        "id": "YtkXNShOwBI2"
      },
      "execution_count": null,
      "outputs": []
    },
    {
      "cell_type": "markdown",
      "source": [
        "# Create Chi2 Test Variable"
      ],
      "metadata": {
        "id": "rd8R1bmQGYwG"
      }
    },
    {
      "cell_type": "markdown",
      "source": [
        "Chi2 test works on categorical variables or discrete variables"
      ],
      "metadata": {
        "id": "0dcO9YCBIPSW"
      }
    },
    {
      "cell_type": "code",
      "source": [
        "# Create a function to accept crosstab tables created to test features, and a confidence interval value to validate the hypothesis against\n",
        "# Uses the stats API which has the function chi2_contingency \n",
        "# Feature and target columns must be categorical or discrete\n",
        "\n",
        "def check_categorical_dependency(crosstab_table, confidence_interval):\n",
        "  stat, p, dof, expected = stats.chi2_contingency(crosstab_table)\n",
        "  print(\"Chi-Square Statistic value = {}\".format(stat))\n",
        "  print(\"P - Value = {}\".format(p))\n",
        "  alpha = 1.0 - confidence_interval\n",
        "  if p <= alpha:\n",
        "    print('Dependent (reject H0)')\n",
        "  else:\n",
        "    print('Independent (fail to reject H0)')\n",
        "  return expected"
      ],
      "metadata": {
        "id": "NJQq0I40GfvP"
      },
      "execution_count": 34,
      "outputs": []
    },
    {
      "cell_type": "markdown",
      "source": [
        "# Univariate Testing"
      ],
      "metadata": {
        "id": "_v5CLt8Lz3br"
      }
    },
    {
      "cell_type": "markdown",
      "source": [
        "First create crosstabs between feature and target variables. This will be used to test the feature against the target ('class') on the feature for inclusion in the feature set, based on the null hypothesis."
      ],
      "metadata": {
        "id": "ROZSf2pX0Jjc"
      }
    },
    {
      "cell_type": "markdown",
      "source": [
        "Here, testing three variables: cap-color, ring-type, spore-print-color"
      ],
      "metadata": {
        "id": "n4HedRg-0e6d"
      }
    },
    {
      "cell_type": "code",
      "source": [
        "# Crosstabs of feature and target combinations\n",
        "cap_color_crosstab = pd.crosstab(df['cap-color'], df['class'], margins = True)\n",
        "cap_color_crosstab"
      ],
      "metadata": {
        "id": "WUXoddXkAYSY"
      },
      "execution_count": null,
      "outputs": []
    },
    {
      "cell_type": "code",
      "source": [
        "ring_type_crosstab = pd.crosstab(df['ring-type'], df['class'], margins = True)\n",
        "ring_type_crosstab"
      ],
      "metadata": {
        "id": "zG0ax7IgAthi"
      },
      "execution_count": null,
      "outputs": []
    },
    {
      "cell_type": "code",
      "source": [
        "spore_print_color_crosstab = pd.crosstab(df['spore-print-color'], df['class'], margins = True)\n",
        "spore_print_color_crosstab"
      ],
      "metadata": {
        "id": "LrA2HIK3M1sT"
      },
      "execution_count": null,
      "outputs": []
    },
    {
      "cell_type": "markdown",
      "source": [
        "Test each crosstab against the Chi2 test statistic to reject or accept the null hypothesis that the relationship between the target and feature is independent."
      ],
      "metadata": {
        "id": "-0DsxSLJ0kQm"
      }
    },
    {
      "cell_type": "code",
      "source": [
        "# Pass cross-tab table and the confidence interval to check against\n",
        "exp_table_1 = check_categorical_dependency(cap_color_crosstab, 0.95)"
      ],
      "metadata": {
        "colab": {
          "base_uri": "https://localhost:8080/"
        },
        "id": "DV_jdgDaI91s",
        "outputId": "02cb1858-3b6b-460c-85a1-5db2ef877168"
      },
      "execution_count": 35,
      "outputs": [
        {
          "output_type": "stream",
          "name": "stdout",
          "text": [
            "Chi-Square Statistic value = 387.59776897722986\n",
            "P - Value = 7.605907803439184e-70\n",
            "Dependent (reject H0)\n"
          ]
        }
      ]
    },
    {
      "cell_type": "code",
      "source": [
        "# Pass cross-tab table and the confidence interval to check against\n",
        "exp_table_2 = check_categorical_dependency(ring_type_crosstab, 0.95)"
      ],
      "metadata": {
        "colab": {
          "base_uri": "https://localhost:8080/"
        },
        "id": "gzo80DleJgdB",
        "outputId": "4a71b246-ac2c-4cc6-effc-6e8f9835b9dc"
      },
      "execution_count": 36,
      "outputs": [
        {
          "output_type": "stream",
          "name": "stdout",
          "text": [
            "Chi-Square Statistic value = 2956.6192780575316\n",
            "P - Value = 0.0\n",
            "Dependent (reject H0)\n"
          ]
        }
      ]
    },
    {
      "cell_type": "code",
      "source": [
        "# Pass cross-tab table and the confidence interval to check against\n",
        "exp_table_3 = check_categorical_dependency(spore_print_color_crosstab, 0.95)"
      ],
      "metadata": {
        "colab": {
          "base_uri": "https://localhost:8080/"
        },
        "id": "wN-NmlMPJiZx",
        "outputId": "777e8894-6d78-457e-d654-58dad8989789"
      },
      "execution_count": 40,
      "outputs": [
        {
          "output_type": "stream",
          "name": "stdout",
          "text": [
            "Chi-Square Statistic value = 4602.0331700846045\n",
            "P - Value = 0.0\n",
            "Dependent (reject H0)\n"
          ]
        }
      ]
    },
    {
      "cell_type": "code",
      "source": [
        "# Observe the expected values of a table\n",
        "pd.DataFrame(exp_table_3)"
      ],
      "metadata": {
        "id": "8tvTFNmPNXzH"
      },
      "execution_count": null,
      "outputs": []
    },
    {
      "cell_type": "markdown",
      "source": [
        "# Feature Selection using Chi-Square"
      ],
      "metadata": {
        "id": "V4FmwBWKJyE0"
      }
    },
    {
      "cell_type": "code",
      "source": [
        "X = df[[\"ring_type_encoded\",\"cap_color_encoded\", \"spore_print_color_encoded\"]]"
      ],
      "metadata": {
        "id": "oNv6Tra4J0Q7"
      },
      "execution_count": 60,
      "outputs": []
    },
    {
      "cell_type": "code",
      "source": [
        "y = df[[\"class_encoded\"]]"
      ],
      "metadata": {
        "id": "Pe7oDAMGN2PR"
      },
      "execution_count": 61,
      "outputs": []
    },
    {
      "cell_type": "code",
      "source": [
        "X_new = SelectKBest (chi2, k=\"all\").fit_transform(X,y)\n",
        "#X_new = SelectKBest (chi2, k=1).fit_transform(X,y)"
      ],
      "metadata": {
        "id": "rclZ5cNLN4Ee"
      },
      "execution_count": 72,
      "outputs": []
    },
    {
      "cell_type": "code",
      "source": [
        "# The Chi2 method has selected the top feature\n",
        "X_new.shape"
      ],
      "metadata": {
        "colab": {
          "base_uri": "https://localhost:8080/"
        },
        "id": "OUrsHDPaN9zo",
        "outputId": "89ca29ce-5543-479e-9419-99d0f0c46582"
      },
      "execution_count": 73,
      "outputs": [
        {
          "output_type": "execute_result",
          "data": {
            "text/plain": [
              "(8124, 3)"
            ]
          },
          "metadata": {},
          "execution_count": 73
        }
      ]
    },
    {
      "cell_type": "markdown",
      "source": [
        "Visualize the p-values of the features"
      ],
      "metadata": {
        "id": "edgNpGBR5LNq"
      }
    },
    {
      "cell_type": "code",
      "source": [
        "chi_scores = chi2(X,y)"
      ],
      "metadata": {
        "id": "XbUW2Lu64pte"
      },
      "execution_count": 74,
      "outputs": []
    },
    {
      "cell_type": "code",
      "source": [
        "# Here the first array represents chi square values and second array represnts p-values\n",
        "chi_scores"
      ],
      "metadata": {
        "colab": {
          "base_uri": "https://localhost:8080/"
        },
        "id": "uulpZage5WaQ",
        "outputId": "ae14cbfd-2f55-4b5c-bf5e-d05d9f625e0c"
      },
      "execution_count": 76,
      "outputs": [
        {
          "output_type": "execute_result",
          "data": {
            "text/plain": [
              "(array([1950.61014644,   11.51138164,  379.13272877]),\n",
              " array([0.00000000e+00, 6.91713451e-04, 1.92211948e-84]))"
            ]
          },
          "metadata": {},
          "execution_count": 76
        }
      ]
    },
    {
      "cell_type": "code",
      "source": [
        "p_values = pd.Series(chi_scores[1],index = X.columns)\n",
        "p_values.sort_values(ascending = False , inplace = True)\n",
        "p_values.plot.bar()"
      ],
      "metadata": {
        "colab": {
          "base_uri": "https://localhost:8080/",
          "height": 407
        },
        "id": "mpfmf5PZ5dfz",
        "outputId": "9db42a15-a38b-4212-a744-c6a500a3dfd8"
      },
      "execution_count": 77,
      "outputs": [
        {
          "output_type": "execute_result",
          "data": {
            "text/plain": [
              "<matplotlib.axes._subplots.AxesSubplot at 0x7fc2ae51f0d0>"
            ]
          },
          "metadata": {},
          "execution_count": 77
        },
        {
          "output_type": "display_data",
          "data": {
            "text/plain": [
              "<Figure size 432x288 with 1 Axes>"
            ],
            "image/png": "[encoded data removed]"
          },
          "metadata": {
            "needs_background": "light"
          }
        }
      ]
    },
    {
      "cell_type": "markdown",
      "source": [
        "This is an example of implementing the Chi2 statistic in the SelectKBest feature selection method."
      ],
      "metadata": {
        "id": "D8wglA117lzo"
      }
    },
    {
      "cell_type": "code",
      "source": [],
      "metadata": {
        "id": "sKpvv8lL7tMX"
      },
      "execution_count": null,
      "outputs": []
    }
  ]
}